{
 "cells": [
  {
   "cell_type": "code",
   "execution_count": 8,
   "id": "1f9d44bb",
   "metadata": {},
   "outputs": [],
   "source": [
    "# EV Charging Stations Comparison Data Project"
   ]
  },
  {
   "cell_type": "code",

   "id": "2bb735ee",
   "metadata": {},
   "outputs": [],
   "source": [
    "# Import dependencies\n",
    "import pandas as pd\n",
    "import requests\n",
    "import json\n",
    "import numpy as np\n",
    "import matplotlib.pyplot as plt\n",
    "from scipy.stats import linregress\n",
    "import scipy.stats as st\n",
    "from config import api_key\n",
    "from pprint import pprint"
   ]
  },
  {
   "cell_type": "code",

   "id": "1255fe23",
   "metadata": {},
   "outputs": [],
   "source": [
    "# Make API call\n",
    "url = \"https://api.openchargemap.io/v3/poi\"\n",
    "\n",
    "querystring = {\"key\":api_key}\n",
    "\n",
    "headers = {\"Accept\": \"application/json\"}\n",
    "\n",
    "response = requests.get(url, headers=headers, params=querystring)\n",
    "response = response.json()"
   ]
  },
  {
   "cell_type": "code",
   "execution_count": 11,
   "id": "ab75ccb9",
   "metadata": {},
   "outputs": [],
   "source": [
    "# Use Pandas to clean and Format Datasets\n",
    "# US Charging Station Data\n",
    "country = ['United States']\n",
    "us_data = []\n",
    "\n",
    "# loop through lists\n",
    "for towns in response:\n",
    "\n",
    "    city = towns['AddressInfo']['Town']\n",
    "    titles = towns['AddressInfo']['Title']\n",
    "    address = towns['AddressInfo']['AddressLine1']\n",
    "    level = towns['Connections'][0]['LevelID']\n",
    "\n",
    "    # Append the City information into city_data list\n",
    "    us_data.append({\"City\": city, \n",
    "                        \"Title\": titles, \n",
    "                        \"Address\": address, \n",
    "                        \"Level\": level})"
   ]
  },
  {
   "cell_type": "code",

   "id": "6b4879eb",
   "metadata": {},
   "outputs": [],
   "source": [
    "# Use Pandas to clean and Format Datasets\n",
    "# UK Charging Station Data\n",
    "# Create empty lists to store the data\n",
    "country = ['United Kingdom']\n",
    "town = []\n",
    "title = []\n",
    "address_info = []\n",
    "level_id = []\n",
    "\n",
    "# loop through lists\n",
    "for towns in response:\n",
    "    \n",
    "    city = towns['AddressInfo']['Town']\n",
    "    town.append(city)\n",
    "    \n",
    "    titles = towns['AddressInfo']['Title']\n",
    "    title.append(titles)\n",
    "    \n",
    "    address = towns['AddressInfo']['AddressLine1']\n",
    "    address_info.append(address)\n",
    "    \n",
    "    level = towns['Connections'][0]['LevelID']\n",
    "    level_id.append(level)"

   ]
  },
  {
   "cell_type": "code",

   "execution_count": 45,
   "id": "e5a994fe",
   "metadata": {},
   "outputs": [],
   "source": [
    "# Combined Data\n"
   ]
  },
  {
   "cell_type": "code",
   "execution_count": null,
   "id": "67f3062c",
   "metadata": {},
   "outputs": [],
   "source": []
  }
 ],
 "metadata": {
  "kernelspec": {
   "display_name": "Python 3 (ipykernel)",
   "language": "python",
   "name": "python3"
  },
  "language_info": {
   "codemirror_mode": {
    "name": "ipython",
    "version": 3
   },
   "file_extension": ".py",
   "mimetype": "text/x-python",
   "name": "python",
   "nbconvert_exporter": "python",
   "pygments_lexer": "ipython3",
   "version": "3.10.11"
  }
 },
 "nbformat": 4,
 "nbformat_minor": 5
}
