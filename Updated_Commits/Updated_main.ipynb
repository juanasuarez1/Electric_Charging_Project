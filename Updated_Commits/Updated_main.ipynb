{
 "cells": [
  {
   "cell_type": "code",
   "execution_count": null,
   "id": "1f9d44bb",
   "metadata": {},
   "outputs": [],
   "source": [
    "# EV Charging Stations Comparison Data Project"
   ]
  },
  {
   "cell_type": "code",
   "execution_count": null,
   "id": "2bb735ee",
   "metadata": {},
   "outputs": [],
   "source": [
    "# Import dependencies\n",
    "import pandas as pd\n",
    "import hvplot.pandas\n",
    "import requests\n",
    "import json\n",
    "import numpy as np\n",
    "import matplotlib.pyplot as plt\n",
    "from scipy.stats import linregress\n",
    "import scipy.stats as st\n",
    "from config import api_key\n",
    "from pprint import pprint"
   ]
  },
  {
   "cell_type": "code",
   "execution_count": null,
   "id": "1255fe23",
   "metadata": {},
   "outputs": [],
   "source": [
    "# Make API call\n",
    "url = \"https://api.openchargemap.io/v3/poi\"\n",
    "\n",
    "querystring = {\"key\":api_key, \"countrycode\":\"US\"}\n",
    "\n",
    "headers = {\"Accept\": \"application/json\"}\n",
    "\n",
    "response = requests.get(url, headers=headers, params=querystring)\n",
    "response = response.json()"
   ]
  },
  {
   "cell_type": "code",
   "execution_count": null,
   "id": "dc5adc88",
   "metadata": {},
   "outputs": [],
   "source": [
    "pprint(response)"
   ]
  },
  {
   "cell_type": "code",
   "execution_count": null,
   "id": "ab75ccb9",
   "metadata": {},
   "outputs": [],
   "source": [
    "# Use Pandas to clean and Format Datasets\n",
    "# US Charging Station Data\n",
    "\n",
    "us_data = []\n",
    "\n",
    "# loop through lists\n",
    "for towns in response:\n",
    "\n",
    "    city = towns['AddressInfo']['Town']\n",
    "    country = towns['AddressInfo']['Country']['Title']\n",
    "    titles = towns['AddressInfo']['Title']\n",
    "    address = towns['AddressInfo']['AddressLine1']\n",
    "    level = towns['Connections'][0]['LevelID']\n",
    "\n",
    "    # Append the City information into city_data list\n",
    "    us_data.append({\"City\": city, \n",
    "                    \"Country\": country,\n",
    "                        \"Title\": titles, \n",
    "                        \"Address\": address, \n",
    "                        \"Level\": level})\n",
    "\n",
    "# Create the US data frame\n",
    "us_data_df = pd.DataFrame(us_data)\n",
    "us_data_df.head()"
   ]
  },
  {
   "cell_type": "code",
   "execution_count": null,
   "id": "15056939",
   "metadata": {},
   "outputs": [],
   "source": [
    "# Clean US data frame\n",
    "us_data_df.count()"
   ]
  },
  {
   "cell_type": "code",
   "execution_count": null,
   "id": "c70dd13d",
   "metadata": {},
   "outputs": [],
   "source": [
    "us_data_df.value_counts(['Country'])"
   ]
  },
  {
   "cell_type": "code",
   "execution_count": null,
   "id": "39865271",
   "metadata": {},
   "outputs": [],
   "source": [
    "url = \"https://api.openchargemap.io/v3/poi\"\n",
    "\n",
    "querystring = {\"key\":api_key, \"countrycode\":\"GB\"}\n",
    "\n",
    "headers = {\"Accept\": \"application/json\"}\n",
    "\n",
    "response = requests.get(url, headers=headers, params=querystring)\n",
    "response = response.json()"
   ]
  },
  {
   "cell_type": "code",
   "execution_count": null,
   "id": "c976d58b",
   "metadata": {},
   "outputs": [],
   "source": [
    "# Use Pandas to clean and Format Datasets\n",
    "# UK Charging Station Data\n",
    "# Create empty lists to store the data\n",
    "uk_data = []\n",
    "\n",
    "# loop through lists\n",
    "for towns in response:\n",
    "\n",
    "    city = towns['AddressInfo']['Town']\n",
    "    country = towns['AddressInfo']['Country']['Title']\n",
    "    titles = towns['AddressInfo']['Title']\n",
    "    address = towns['AddressInfo']['AddressLine1']\n",
    "    level = towns['Connections'][0]['LevelID']\n",
    "\n",
    "    # Append the City information into city_data list\n",
    "    uk_data.append({\"City\": city, \n",
    "                    \"Country\": country,\n",
    "                        \"Title\": titles, \n",
    "                        \"Address\": address, \n",
    "                        \"Level\": level})\n",
    "\n",
    "# Create the US data frame\n",
    "uk_data_df = pd.DataFrame(uk_data)\n",
    "uk_data_df.head()"
   ]
  },
  {
   "cell_type": "code",
   "execution_count": null,
   "id": "e5a994fe",
   "metadata": {},
   "outputs": [],
   "source": [
    "# Use count function to check for any null values\n",
    "uk_data_df.count()"
   ]
  },
  {
   "cell_type": "code",
   "execution_count": null,
   "id": "76175737",
   "metadata": {},
   "outputs": [],
   "source": [
    "# Drop NA values\n",
    "uk_data_df = uk_data_df.dropna(how=\"any\")"
   ]
  },
  {
   "cell_type": "code",
   "execution_count": null,
   "id": "67f3062c",
   "metadata": {},
   "outputs": [],
   "source": [
    "# Check all values are written as \"United Kingdom\"\n",
    "uk_data_df[\"Country\"].value_counts()"
   ]
  },
  {
   "cell_type": "code",
   "execution_count": null,
   "id": "23a7520b",
   "metadata": {},
   "outputs": [],
   "source": [
    "# Combined DataFrame\n",
    "merged_data = pd.concat([us_data_df, uk_data_df])\n",
    "merged_data"
   ]
  },
  {
   "cell_type": "code",
   "execution_count": null,
   "id": "e7397459",
   "metadata": {},
   "outputs": [],
   "source": [
    "# Which cities have the greatest amount of charging stations in the US and UK\n",
    "merged_data.value_counts([\"City\"])"
   ]
  },
  {
   "cell_type": "code",
   "execution_count": null,
   "id": "c7b0cd27",
   "metadata": {},
   "outputs": [],
   "source": [
    "%%capture --no-display\n",
    "map1 = merged_data.hvplot.points(\"Lng\", \"Lat\", geo=True, color=\"City\", \n",
    "                               size=\"Humidity\", frame_height=500, \n",
    "                               frame_width=700, tiles=\"OSM\", scale=1, hover_cols=[\"Lng\", \"Lat\"])\n",
    "map1"
   ]
  }
 ],
 "metadata": {
  "kernelspec": {
   "display_name": "Python 3 (ipykernel)",
   "language": "python",
   "name": "python3"
  },
  "language_info": {
   "codemirror_mode": {
    "name": "ipython",
    "version": 3
   },
   "file_extension": ".py",
   "mimetype": "text/x-python",
   "name": "python",
   "nbconvert_exporter": "python",
   "pygments_lexer": "ipython3",
   "version": "3.10.11"
  }
 },
 "nbformat": 4,
 "nbformat_minor": 5
}
