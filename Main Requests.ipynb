{
 "cells": [
  {
   "cell_type": "code",
   "execution_count": 8,
   "id": "1f9d44bb",
   "metadata": {},
   "outputs": [],
   "source": [
    "# EV Charging Stations Comparison Data Project"
   ]
  },
  {
   "cell_type": "code",
   "execution_count": 9,
   "id": "2bb735ee",
   "metadata": {},
   "outputs": [],
   "source": [
    "# Import dependencies\n",
    "import pandas as pd\n",
    "import requests\n",
    "import json\n",
    "import numpy as np\n",
    "import matplotlib.pyplot as plt\n",
    "from scipy.stats import linregress\n",
    "import scipy.stats as st\n",
    "from config import api_key\n",
    "from pprint import pprint"
   ]
  },
  {
   "cell_type": "code",
   "execution_count": 10,
   "id": "1255fe23",
   "metadata": {},
   "outputs": [],
   "source": [
    "# Make API call\n",
    "url = \"https://api.openchargemap.io/v3/poi\"\n",
    "\n",
    "querystring = {\"key\":api_key}\n",
    "\n",
    "headers = {\"Accept\": \"application/json\"}\n",
    "\n",
    "response = requests.get(url, headers=headers, params=querystring)\n",
    "response = response.json()"
   ]
  },
  {
   "cell_type": "code",
   "execution_count": 11,
   "id": "ab75ccb9",
   "metadata": {},
   "outputs": [],
   "source": [
    "# Use Pandas to clean and Format Datasets\n",
    "# US Charging Station Data\n",
    "country = ['United States']\n",
    "us_data = []\n",
    "\n",
    "# loop through lists\n",
    "for towns in response:\n",
    "\n",
    "    city = towns['AddressInfo']['Town']\n",
    "    titles = towns['AddressInfo']['Title']\n",
    "    address = towns['AddressInfo']['AddressLine1']\n",
    "    level = towns['Connections'][0]['LevelID']\n",
    "\n",
    "    # Append the City information into city_data list\n",
    "    us_data.append({\"City\": city, \n",
    "                        \"Title\": titles, \n",
    "                        \"Address\": address, \n",
    "                        \"Level\": level})"
   ]
  },
  {
   "cell_type": "code",
   "execution_count": 12,
   "id": "6b4879eb",
   "metadata": {},
   "outputs": [],
   "source": [
    "# Use Pandas to clean and Format Datasets\n",
    "# UK Charging Station Data\n",
    "# Create empty lists to store the data\n",
    "country = ['United Kingdom']\n",
    "town = []\n",
    "title = []\n",
    "address_info = []\n",
    "level_id = []\n",
    "\n",
    "# loop through lists\n",
    "for towns in response:\n",
    "    \n",
    "    city = towns['AddressInfo']['Town']\n",
    "    town.append(city)\n",
    "    \n",
    "    titles = towns['AddressInfo']['Title']\n",
    "    title.append(titles)\n",
    "    \n",
    "    address = towns['AddressInfo']['AddressLine1']\n",
    "    address_info.append(address)\n",
    "    \n",
    "    level = towns['Connections'][0]['LevelID']\n",
    "    level_id.append(level)"
   ]
  },
  {
   "cell_type": "code",
   "execution_count": 13,
   "id": "a3339f1a",
   "metadata": {},
   "outputs": [
    {
     "data": {
      "text/html": [
       "<div>\n",
       "<style scoped>\n",
       "    .dataframe tbody tr th:only-of-type {\n",
       "        vertical-align: middle;\n",
       "    }\n",
       "\n",
       "    .dataframe tbody tr th {\n",
       "        vertical-align: top;\n",
       "    }\n",
       "\n",
       "    .dataframe thead th {\n",
       "        text-align: right;\n",
       "    }\n",
       "</style>\n",
       "<table border=\"1\" class=\"dataframe\">\n",
       "  <thead>\n",
       "    <tr style=\"text-align: right;\">\n",
       "      <th></th>\n",
       "      <th>City</th>\n",
       "      <th>Title</th>\n",
       "      <th>Address</th>\n",
       "      <th>Level</th>\n",
       "    </tr>\n",
       "  </thead>\n",
       "  <tbody>\n",
       "    <tr>\n",
       "      <th>0</th>\n",
       "      <td>Paraparaumu</td>\n",
       "      <td>Paraparaumu Supercharger</td>\n",
       "      <td>150 Coastlands Parade</td>\n",
       "      <td>3.0</td>\n",
       "    </tr>\n",
       "    <tr>\n",
       "      <th>1</th>\n",
       "      <td>Medina del Campo</td>\n",
       "      <td>Repsol Medina del Campo</td>\n",
       "      <td>Autovía del Noroeste</td>\n",
       "      <td>3.0</td>\n",
       "    </tr>\n",
       "    <tr>\n",
       "      <th>2</th>\n",
       "      <td>Lizzano In Belvedere</td>\n",
       "      <td>Be Charge  La Cà</td>\n",
       "      <td>Via Madonna dell'Acero 64</td>\n",
       "      <td>2.0</td>\n",
       "    </tr>\n",
       "    <tr>\n",
       "      <th>3</th>\n",
       "      <td>Serravalle</td>\n",
       "      <td>Supercharger Serravalle disponibili per i veic...</td>\n",
       "      <td>Rotonta Costante Girardengo</td>\n",
       "      <td>3.0</td>\n",
       "    </tr>\n",
       "    <tr>\n",
       "      <th>4</th>\n",
       "      <td>Baldivis</td>\n",
       "      <td>Ampol Foodary Baldivis</td>\n",
       "      <td>Safety Bay Road</td>\n",
       "      <td>3.0</td>\n",
       "    </tr>\n",
       "  </tbody>\n",
       "</table>\n",
       "</div>"
      ],
      "text/plain": [
       "                   City                                              Title  \\\n",
       "0           Paraparaumu                           Paraparaumu Supercharger   \n",
       "1      Medina del Campo                            Repsol Medina del Campo   \n",
       "2  Lizzano In Belvedere                                   Be Charge  La Cà   \n",
       "3            Serravalle  Supercharger Serravalle disponibili per i veic...   \n",
       "4              Baldivis                             Ampol Foodary Baldivis   \n",
       "\n",
       "                       Address  Level  \n",
       "0        150 Coastlands Parade    3.0  \n",
       "1         Autovía del Noroeste    3.0  \n",
       "2    Via Madonna dell'Acero 64    2.0  \n",
       "3  Rotonta Costante Girardengo    3.0  \n",
       "4              Safety Bay Road    3.0  "
      ]
     },
     "execution_count": 13,
     "metadata": {},
     "output_type": "execute_result"
    }
   ],
   "source": [
    "# Create a DataFrame for the US data\n",
    "us_data_df = pd.DataFrame(us_data)\n",
    "us_data_df.head()"
   ]
  },
  {
   "cell_type": "code",
   "execution_count": null,
   "id": "15056939",
   "metadata": {},
   "outputs": [],
   "source": [
    "# Create a DataFrame for the UK data\n"
   ]
  },
  {
   "cell_type": "code",
   "execution_count": 45,
   "id": "e5a994fe",
   "metadata": {},
   "outputs": [],
   "source": [
    "# Combined Data\n"
   ]
  },
  {
   "cell_type": "code",
   "execution_count": null,
   "id": "67f3062c",
   "metadata": {},
   "outputs": [],
   "source": []
  }
 ],
 "metadata": {
  "kernelspec": {
   "display_name": "Python 3 (ipykernel)",
   "language": "python",
   "name": "python3"
  },
  "language_info": {
   "codemirror_mode": {
    "name": "ipython",
    "version": 3
   },
   "file_extension": ".py",
   "mimetype": "text/x-python",
   "name": "python",
   "nbconvert_exporter": "python",
   "pygments_lexer": "ipython3",
   "version": "3.10.11"
  }
 },
 "nbformat": 4,
 "nbformat_minor": 5
}
